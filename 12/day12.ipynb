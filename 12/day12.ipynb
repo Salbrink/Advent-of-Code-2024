{
 "cells": [
  {
   "cell_type": "markdown",
   "metadata": {},
   "source": [
    "## Part 1"
   ]
  },
  {
   "cell_type": "code",
   "execution_count": 129,
   "metadata": {},
   "outputs": [
    {
     "name": "stdout",
     "output_type": "stream",
     "text": [
      "price = 1467094\n"
     ]
    }
   ],
   "source": [
    "file = open('puzzle_input_12.txt')\n",
    "matrix = []\n",
    "for line in file:\n",
    "    submatrix = []\n",
    "    for plant in line:\n",
    "        if plant != '\\n':\n",
    "            submatrix.append(plant)\n",
    "    matrix.append(submatrix)\n",
    "\n",
    "def findAdjacentPlants(r, c, matrix, plant, visited=None):\n",
    "    if visited is None:\n",
    "        visited = set()\n",
    "\n",
    "    if r < 0 or r >= len(matrix) or c < 0 or c >= len(matrix[0]) or (r, c) in visited or matrix[r][c] != plant:\n",
    "        return []\n",
    "    \n",
    "    visited.add((r, c))\n",
    "\n",
    "    adjacentPlants = [(r, c)]\n",
    "\n",
    "    adjacentPlants += findAdjacentPlants(r - 1, c, matrix, plant, visited)  # Up\n",
    "    adjacentPlants += findAdjacentPlants(r + 1, c, matrix, plant, visited)  # Down\n",
    "    adjacentPlants += findAdjacentPlants(r, c - 1, matrix, plant, visited)  # Left\n",
    "    adjacentPlants += findAdjacentPlants(r, c + 1, matrix, plant, visited)  # Right\n",
    "\n",
    "    return adjacentPlants\n",
    "\n",
    "def numberNeighbors(r, c, plantList):\n",
    "    nbr = 0\n",
    "    if (r-1,c) in plantList: nbr += 1\n",
    "    if (r,c+1) in plantList: nbr += 1\n",
    "    if (r+1,c) in plantList: nbr += 1\n",
    "    if (r,c-1) in plantList: nbr += 1 \n",
    "    return nbr\n",
    "\n",
    "price = 0\n",
    "visitedIndices = set()\n",
    "for r, row in enumerate(matrix):\n",
    "    for c, plant in enumerate(row):\n",
    "        if (r,c) not in visitedIndices:\n",
    "            adjacentPlants = findAdjacentPlants(\n",
    "                r, c, matrix, plant, visitedIndices\n",
    "                )\n",
    "            regionfence = 0\n",
    "            for p in adjacentPlants:\n",
    "                regionfence += 4 - numberNeighbors(\n",
    "                    p[0], p[1], adjacentPlants\n",
    "                    )\n",
    "                visitedIndices.add(p)\n",
    "            price += len(adjacentPlants)*regionfence\n",
    "print(f'{price = }')"
   ]
  },
  {
   "cell_type": "markdown",
   "metadata": {},
   "source": [
    "## Part 2"
   ]
  },
  {
   "cell_type": "code",
   "execution_count": 130,
   "metadata": {},
   "outputs": [
    {
     "name": "stdout",
     "output_type": "stream",
     "text": [
      "price = 881182\n"
     ]
    }
   ],
   "source": [
    "def nbrCornersForOnePlant(r, c, plantList):\n",
    "    '''\n",
    "    A corner can be identified as a diagonal neighbor with \n",
    "    no neighbors imeediately next to the diagonal neighbor\n",
    "    '''\n",
    "    corners = 0\n",
    "    for (deltaR, deltaC) in [(1,1), (1,-1), (-1,1), (-1,-1)]:\n",
    "\n",
    "        # Check if proper corner\n",
    "        if (r+deltaR, c+deltaC) not in plantList and (r+deltaR,c) not in plantList and (r,c+deltaC) not in plantList:\n",
    "            corners += 1\n",
    "\n",
    "        # Check if 270 degree corner\n",
    "        if (r+deltaR, c+deltaC) not in plantList and (r+deltaR,c) in plantList and (r,c+deltaC) in plantList:\n",
    "            corners += 1\n",
    "\n",
    "        # Check if diagonal corner in which case the corner should be counted twice\n",
    "        if (r+deltaR, c+deltaC) in plantList and (r+deltaR,c) not in plantList and (r,c+deltaC) not in plantList:\n",
    "            corners += 1\n",
    "\n",
    "    return corners\n",
    "    \n",
    "\n",
    "\n",
    "def numberOfCornersForRegion(plantList):\n",
    "    corners = 0\n",
    "    for (r, c) in plantList:\n",
    "        corners += nbrCornersForOnePlant(r, c, plantList)\n",
    "    return corners\n",
    "\n",
    "price = 0\n",
    "visitedIndices = set()\n",
    "for r, row in enumerate(matrix):\n",
    "    for c, plant in enumerate(row):\n",
    "        if (r, c) not in visitedIndices:\n",
    "            adjacentPlants = findAdjacentPlants(\n",
    "                r, c, matrix, plant, visitedIndices\n",
    "                )\n",
    "            area = len(adjacentPlants)\n",
    "            corners = numberOfCornersForRegion(adjacentPlants)\n",
    "            price += area*corners\n",
    "print(f'{price = }')\n",
    "            "
   ]
  },
  {
   "cell_type": "code",
   "execution_count": null,
   "metadata": {},
   "outputs": [],
   "source": []
  },
  {
   "cell_type": "code",
   "execution_count": null,
   "metadata": {},
   "outputs": [],
   "source": []
  }
 ],
 "metadata": {
  "kernelspec": {
   "display_name": "Python 3",
   "language": "python",
   "name": "python3"
  },
  "language_info": {
   "codemirror_mode": {
    "name": "ipython",
    "version": 3
   },
   "file_extension": ".py",
   "mimetype": "text/x-python",
   "name": "python",
   "nbconvert_exporter": "python",
   "pygments_lexer": "ipython3",
   "version": "3.12.5"
  }
 },
 "nbformat": 4,
 "nbformat_minor": 2
}
