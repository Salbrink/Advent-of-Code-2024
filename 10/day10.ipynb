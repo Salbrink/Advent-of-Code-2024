{
 "cells": [
  {
   "cell_type": "markdown",
   "metadata": {},
   "source": [
    "## Part 1"
   ]
  },
  {
   "cell_type": "code",
   "execution_count": 6,
   "metadata": {},
   "outputs": [
    {
     "name": "stdout",
     "output_type": "stream",
     "text": [
      "nbrTrails = 482\n"
     ]
    }
   ],
   "source": [
    "file = open('puzzle_input_10.txt')\n",
    "nbrTrails = 0\n",
    "matrix = []\n",
    "for line in file:\n",
    "    submatrix = []\n",
    "    for ch in line:\n",
    "        if ch != '\\n':\n",
    "            submatrix.append(int(ch))\n",
    "    matrix.append(submatrix)\n",
    "\n",
    "def searchNearestNeighbors(matrix, r, c, target):\n",
    "    result = []\n",
    "    if -1 < r -1:\n",
    "        if matrix[r-1][c] == target: result.append([r-1, c])\n",
    "    if -1 < c -1:\n",
    "        if matrix[r][c-1] == target: result.append([r, c-1])\n",
    "    if r + 1 < len(matrix):\n",
    "        if matrix[r+1][c] == target: result.append([r+1, c])\n",
    "    if c + 1 < len(matrix[0]):\n",
    "        if matrix[r][c+1] == target: result.append([r, c+1])\n",
    "    return result\n",
    "\n",
    "\n",
    "for r, row in enumerate(matrix):\n",
    "    for c, element in enumerate(row):\n",
    "        if element == 0:\n",
    "            reachableNines = set()  # Define it outside the loop\n",
    "            ones = searchNearestNeighbors(matrix, r, c, 1)\n",
    "            if ones:\n",
    "                for one in ones: \n",
    "                    twos = searchNearestNeighbors(matrix, one[0], one[1], 2)\n",
    "                    if twos: \n",
    "                        for two in twos:\n",
    "                            threes = searchNearestNeighbors(matrix, two[0], two[1], 3)\n",
    "                            if threes:\n",
    "                                for three in threes: \n",
    "                                    fours = searchNearestNeighbors(matrix, three[0], three[1], 4)\n",
    "                                    if fours: \n",
    "                                        for four in fours:\n",
    "                                            fives = searchNearestNeighbors(matrix, four[0], four[1], 5)\n",
    "                                            if fives:\n",
    "                                                for five in fives: \n",
    "                                                    sixes = searchNearestNeighbors(matrix, five[0], five[1], 6)\n",
    "                                                    if sixes: \n",
    "                                                        for six in sixes:\n",
    "                                                            sevens = searchNearestNeighbors(matrix, six[0], six[1], 7)\n",
    "                                                            if sevens:\n",
    "                                                                for seven in sevens: \n",
    "                                                                    eights = searchNearestNeighbors(matrix, seven[0], seven[1], 8)\n",
    "                                                                    if eights: \n",
    "                                                                        for eight in eights:\n",
    "                                                                            nines = searchNearestNeighbors(matrix, eight[0], eight[1], 9)\n",
    "                                                                            if nines:\n",
    "                                                                                for nine in nines:\n",
    "                                                                                    reachableNines.add(tuple(nine))\n",
    "            nbrTrails += len(reachableNines)\n",
    "print(f'{nbrTrails = }')\n"
   ]
  },
  {
   "cell_type": "markdown",
   "metadata": {},
   "source": [
    "## Part 2"
   ]
  },
  {
   "cell_type": "code",
   "execution_count": 7,
   "metadata": {},
   "outputs": [
    {
     "name": "stdout",
     "output_type": "stream",
     "text": [
      "nbrTrails = 1094\n"
     ]
    }
   ],
   "source": [
    "file = open('puzzle_input_10.txt')\n",
    "nbrTrails = 0\n",
    "matrix = []\n",
    "for line in file:\n",
    "    submatrix = []\n",
    "    for ch in line:\n",
    "        if ch != '\\n':\n",
    "            submatrix.append(int(ch))\n",
    "    matrix.append(submatrix)\n",
    "\n",
    "def searchNearestNeighbors(matrix, r, c, target):\n",
    "    result = []\n",
    "    if -1 < r -1:\n",
    "        if matrix[r-1][c] == target: result.append([r-1, c])\n",
    "    if -1 < c -1:\n",
    "        if matrix[r][c-1] == target: result.append([r, c-1])\n",
    "    if r + 1 < len(matrix):\n",
    "        if matrix[r+1][c] == target: result.append([r+1, c])\n",
    "    if c + 1 < len(matrix[0]):\n",
    "        if matrix[r][c+1] == target: result.append([r, c+1])\n",
    "    return result\n",
    "\n",
    "\n",
    "for r, row in enumerate(matrix):\n",
    "    for c, element in enumerate(row):\n",
    "        if element == 0:\n",
    "            reachableNines = []\n",
    "            ones = searchNearestNeighbors(matrix, r, c, 1)\n",
    "            if ones:\n",
    "                for one in ones: \n",
    "                    twos = searchNearestNeighbors(matrix, one[0], one[1], 2)\n",
    "                    if twos: \n",
    "                        for two in twos:\n",
    "                            threes = searchNearestNeighbors(matrix, two[0], two[1], 3)\n",
    "                            if threes:\n",
    "                                for three in threes: \n",
    "                                    fours = searchNearestNeighbors(matrix, three[0], three[1], 4)\n",
    "                                    if fours: \n",
    "                                        for four in fours:\n",
    "                                            fives = searchNearestNeighbors(matrix, four[0], four[1], 5)\n",
    "                                            if fives:\n",
    "                                                for five in fives: \n",
    "                                                    sixes = searchNearestNeighbors(matrix, five[0], five[1], 6)\n",
    "                                                    if sixes: \n",
    "                                                        for six in sixes:\n",
    "                                                            sevens = searchNearestNeighbors(matrix, six[0], six[1], 7)\n",
    "                                                            if sevens:\n",
    "                                                                for seven in sevens: \n",
    "                                                                    eights = searchNearestNeighbors(matrix, seven[0], seven[1], 8)\n",
    "                                                                    if eights: \n",
    "                                                                        for eight in eights:\n",
    "                                                                            nines = searchNearestNeighbors(matrix, eight[0], eight[1], 9)\n",
    "                                                                            if nines:\n",
    "                                                                                for nine in nines:\n",
    "                                                                                    reachableNines.append(tuple(nine))\n",
    "            nbrTrails += len(reachableNines)\n",
    "print(f'{nbrTrails = }')\n"
   ]
  }
 ],
 "metadata": {
  "kernelspec": {
   "display_name": "Python 3",
   "language": "python",
   "name": "python3"
  },
  "language_info": {
   "codemirror_mode": {
    "name": "ipython",
    "version": 3
   },
   "file_extension": ".py",
   "mimetype": "text/x-python",
   "name": "python",
   "nbconvert_exporter": "python",
   "pygments_lexer": "ipython3",
   "version": "3.12.5"
  }
 },
 "nbformat": 4,
 "nbformat_minor": 2
}
