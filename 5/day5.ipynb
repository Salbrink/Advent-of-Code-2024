{
 "cells": [
  {
   "cell_type": "markdown",
   "metadata": {},
   "source": [
    "## Part 1"
   ]
  },
  {
   "cell_type": "code",
   "execution_count": 5,
   "metadata": {},
   "outputs": [
    {
     "name": "stdout",
     "output_type": "stream",
     "text": [
      "result = 5948\n"
     ]
    }
   ],
   "source": [
    "import re\n",
    "import numpy as np\n",
    "\n",
    "result = 0\n",
    "file1, file2 = open('puzzle_input_5one.txt'), open('puzzle_input_5two.txt')\n",
    "rules = np.array([re.findall(r'\\d\\d', rule) for rule in file1]).astype(int)\n",
    "updateSets = [re.findall(r'\\d\\d', set) for set in file2]\n",
    "updateSetsInts = []\n",
    "for updateSet in updateSets:\n",
    "    subset = []\n",
    "    for s in updateSet:\n",
    "        subset.append(int(s))\n",
    "    updateSetsInts.append(np.array(subset))\n",
    "\n",
    "def followsRule(updateset, rule):\n",
    "    if (rule[0] in updateset) and (rule[1] in updateset):\n",
    "        return np.where(updateset == rule[0]) < np.where(updateset == rule[1])\n",
    "    return True\n",
    "\n",
    "def followsAllRules(updateset):\n",
    "    for rule in rules:\n",
    "        if not followsRule(updateset, rule):\n",
    "            return False\n",
    "    return True\n",
    "\n",
    "for updateset in updateSetsInts:\n",
    "    if followsAllRules(updateset):\n",
    "        result += updateset[int(len(updateset)/2)]\n",
    "\n",
    "print(f'{result = }')"
   ]
  },
  {
   "cell_type": "markdown",
   "metadata": {},
   "source": [
    "## Part 2"
   ]
  },
  {
   "cell_type": "code",
   "execution_count": 6,
   "metadata": {},
   "outputs": [
    {
     "name": "stdout",
     "output_type": "stream",
     "text": [
      "result = 3062\n"
     ]
    }
   ],
   "source": [
    "result = 0\n",
    "\n",
    "def getBrokenRuleIfExists(updateset):\n",
    "    for rule in rules:\n",
    "        if not followsRule(updateset, rule):\n",
    "            return rule\n",
    "    return None\n",
    "\n",
    "for updateset in updateSetsInts:\n",
    "    if not followsAllRules(updateset):\n",
    "        brokenRule = getBrokenRuleIfExists(updateset)\n",
    "        while brokenRule is not None:\n",
    "            rule = getBrokenRuleIfExists(updateset)\n",
    "            index1 = np.where(updateset == rule[0])\n",
    "            index2 = np.where(updateset == rule[1])\n",
    "            updateset[index1] = rule[1]\n",
    "            updateset[index2] = rule[0]\n",
    "            brokenRule = getBrokenRuleIfExists(updateset)\n",
    "        result += updateset[int(len(updateset)/2)]\n",
    "\n",
    "print(f'{result = }')"
   ]
  },
  {
   "cell_type": "code",
   "execution_count": null,
   "metadata": {},
   "outputs": [],
   "source": []
  },
  {
   "cell_type": "markdown",
   "metadata": {},
   "source": [
    "#### Works for testdata but not for real data as it is not properly ordered"
   ]
  },
  {
   "cell_type": "code",
   "execution_count": 7,
   "metadata": {},
   "outputs": [
    {
     "name": "stdout",
     "output_type": "stream",
     "text": [
      "result = 0\n"
     ]
    }
   ],
   "source": [
    "result = 0\n",
    "sortingOrder = {}\n",
    "for rule in rules:\n",
    "    if rule[0] not in sortingOrder: sortingOrder[rule[0]] = 0\n",
    "    if rule[1] in sortingOrder:\n",
    "        sortingOrder[rule[1]] += 1\n",
    "    else:\n",
    "        sortingOrder[rule[1]] = 1\n",
    "\n",
    "def sortFunc(nbr):\n",
    "    return sortingOrder[nbr]\n",
    "\n",
    "for updateset in updateSetsInts:\n",
    "    copyset = []\n",
    "    for element in updateset:\n",
    "        copyset.append(element)\n",
    "    if not followsAllRules(updateset):\n",
    "        copyset.sort(key=sortFunc)\n",
    "        result += copyset[int(len(copyset)/2)]\n",
    "\n",
    "print(f'{result = }')"
   ]
  }
 ],
 "metadata": {
  "kernelspec": {
   "display_name": "Python 3",
   "language": "python",
   "name": "python3"
  },
  "language_info": {
   "codemirror_mode": {
    "name": "ipython",
    "version": 3
   },
   "file_extension": ".py",
   "mimetype": "text/x-python",
   "name": "python",
   "nbconvert_exporter": "python",
   "pygments_lexer": "ipython3",
   "version": "3.12.5"
  }
 },
 "nbformat": 4,
 "nbformat_minor": 2
}
