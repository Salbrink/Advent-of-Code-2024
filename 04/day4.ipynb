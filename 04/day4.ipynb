{
 "cells": [
  {
   "cell_type": "markdown",
   "metadata": {},
   "source": [
    "## Part 1"
   ]
  },
  {
   "cell_type": "code",
   "execution_count": 5,
   "metadata": {},
   "outputs": [
    {
     "name": "stdout",
     "output_type": "stream",
     "text": [
      "count = 2562\n"
     ]
    }
   ],
   "source": [
    "file = open('puzzle_input_4.txt')\n",
    "matrix = []\n",
    "count = 0\n",
    "\n",
    "for line in file:\n",
    "    subVector = []\n",
    "    for char in line:\n",
    "        subVector.append(char)\n",
    "\n",
    "    matrix.append(subVector)\n",
    "\n",
    "for row in range(len(matrix)):\n",
    "    for col in range(len(matrix[row])):\n",
    "        \n",
    "        if matrix[row][col] == 'X':\n",
    "\n",
    "            if -1 < col-3:\n",
    "                if matrix[row][col-1] == 'M':\n",
    "                    if matrix[row][col-2] == 'A':\n",
    "                        if matrix[row][col-3] == 'S':\n",
    "                            count += 1\n",
    "\n",
    "                if -1 < row -3:\n",
    "                    if matrix[row-1][col-1] == 'M':\n",
    "                        if matrix[row-2][col-2] == 'A':\n",
    "                            if matrix[row-3][col-3] == 'S':\n",
    "                                count += 1\n",
    "\n",
    "                if row + 3 < len(matrix):\n",
    "                    if matrix[row+1][col-1] == 'M':\n",
    "                        if matrix[row+2][col-2] == 'A':\n",
    "                            if matrix[row+3][col-3] == 'S':\n",
    "                                count += 1\n",
    "\n",
    "            if col + 3 < len(matrix):\n",
    "                if matrix[row][col+1] == 'M':\n",
    "                    if matrix[row][col+2] == 'A':\n",
    "                        if matrix[row][col+3] == 'S':\n",
    "                                count += 1\n",
    "\n",
    "                if -1 < row -3:\n",
    "                    if matrix[row-1][col+1] == 'M':\n",
    "                        if matrix[row-2][col+2] == 'A':\n",
    "                            if matrix[row-3][col+3] == 'S':\n",
    "                                count += 1\n",
    "\n",
    "                if row + 3 < len(matrix):\n",
    "                    if matrix[row+1][col+1] == 'M':\n",
    "                        if matrix[row+2][col+2] == 'A':\n",
    "                            if matrix[row+3][col+3] == 'S':\n",
    "                                count += 1\n",
    "            if row + 3 < len(matrix):\n",
    "                if matrix[row+1][col] == 'M':\n",
    "                    if matrix[row+2][col] == 'A':\n",
    "                        if matrix[row+3][col] == 'S':\n",
    "                            count += 1\n",
    "\n",
    "            if -1 < row -3:\n",
    "                if matrix[row-1][col] == 'M':\n",
    "                        if matrix[row-2][col] == 'A':\n",
    "                            if matrix[row-3][col] == 'S':\n",
    "                                count += 1\n",
    "            \n",
    "print(f'{count = }')\n",
    "            "
   ]
  },
  {
   "cell_type": "markdown",
   "metadata": {},
   "source": [
    "## Part 2"
   ]
  },
  {
   "cell_type": "code",
   "execution_count": 6,
   "metadata": {},
   "outputs": [
    {
     "name": "stdout",
     "output_type": "stream",
     "text": [
      "newCount = 1902\n"
     ]
    }
   ],
   "source": [
    "newCount = 0\n",
    "\n",
    "for row in range(len(matrix)):\n",
    "    for col in range(len(matrix[col])):\n",
    "        if matrix[row][col] == 'A':\n",
    "            masCount = 0\n",
    "            if -1 < row -1 and -1 < col -1 and row + 1 < len(matrix) and col +1 < len(matrix[row]):\n",
    "                if matrix[row-1][col-1] == 'M' and matrix[row+1][col+1] == 'S':\n",
    "                    masCount += 1\n",
    "            \n",
    "                if matrix[row-1][col+1] == 'M' and matrix[row+1][col-1] == 'S':\n",
    "                    masCount += 1\n",
    "\n",
    "                if matrix[row+1][col-1] == 'M' and matrix[row-1][col+1] == 'S':\n",
    "                    masCount += 1\n",
    "\n",
    "                if matrix[row+1][col+1] == 'M' and matrix[row-1][col-1] == 'S':\n",
    "                    masCount += 1\n",
    "\n",
    "            if 1 < masCount: newCount += 1 \n",
    "\n",
    "print(f'{newCount = }')"
   ]
  }
 ],
 "metadata": {
  "kernelspec": {
   "display_name": "Python 3",
   "language": "python",
   "name": "python3"
  },
  "language_info": {
   "codemirror_mode": {
    "name": "ipython",
    "version": 3
   },
   "file_extension": ".py",
   "mimetype": "text/x-python",
   "name": "python",
   "nbconvert_exporter": "python",
   "pygments_lexer": "ipython3",
   "version": "3.12.5"
  }
 },
 "nbformat": 4,
 "nbformat_minor": 2
}
