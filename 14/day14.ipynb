{
 "cells": [
  {
   "cell_type": "code",
   "execution_count": 1,
   "metadata": {},
   "outputs": [
    {
     "name": "stdout",
     "output_type": "stream",
     "text": [
      "Safety score: 225648864\n"
     ]
    }
   ],
   "source": [
    "import re\n",
    "\n",
    "file = open('puzzle_input_14.txt')\n",
    "gridsize = (101,103)\n",
    "dx, dy = gridsize[0]//2, gridsize[1]//2\n",
    "state = []\n",
    "\n",
    "for line in file:\n",
    "    current_state_as_str = re.findall(r'-?\\d+', line)  # Match negative and positive numbers\n",
    "    current_state_as_int = []\n",
    "    for input in current_state_as_str:\n",
    "        current_state_as_int.append(int(input))\n",
    "    state.append(current_state_as_int)\n",
    "\n",
    "\n",
    "def iterate_state(state):\n",
    "    new_state = []\n",
    "    for [x, y, vx, vy] in state:\n",
    "        new_state.append([(x+vx)%gridsize[0], (y+vy)%gridsize[1], vx, vy])\n",
    "    return new_state\n",
    "\n",
    "def coordinate_list(state):\n",
    "    coordinate_list = {}\n",
    "    for [x, y, vx, vy] in state:\n",
    "        if (x,y) in coordinate_list:\n",
    "            coordinate_list[(x,y)] += 1\n",
    "        else:\n",
    "            coordinate_list[(x,y)] = 1\n",
    "    return coordinate_list\n",
    "\n",
    "def draw_state(state):\n",
    "    coord_list = coordinate_list(state)\n",
    "\n",
    "    for y in range(gridsize[1]):\n",
    "        line = []\n",
    "        for x in range(gridsize[0]):\n",
    "            if (x,y) in coord_list:\n",
    "                line.append(int(coord_list[(x,y)]))\n",
    "            else:\n",
    "                line.append('.')\n",
    "        print(*line)\n",
    "\n",
    "def search_state(state):\n",
    "    coord_list = coordinate_list(state)\n",
    "\n",
    "    quads = [0,0,0,0]\n",
    "    for y in range(dy):\n",
    "        for x in range(dx):\n",
    "            if (x,y) in coord_list:\n",
    "                quads[0] += coord_list[(x,y)]\n",
    "            if (x+1+dx,y) in coord_list:\n",
    "                quads[1] += coord_list[(x+1+dx,y)]\n",
    "            if (x,y+1+dy) in coord_list:\n",
    "                quads[2] += coord_list[(x,y+1+dy)]\n",
    "            if (x+1+dx,y+1+dy) in coord_list:\n",
    "                quads[3] += coord_list[(x+1+dx,y+1+dy)]\n",
    "    return quads[0]*quads[1]*quads[2]*quads[3]\n",
    "\n",
    "\n",
    "for i in range(100):\n",
    "    state = iterate_state(state)\n",
    "print('Safety score:', search_state(state))"
   ]
  },
  {
   "cell_type": "code",
   "execution_count": 2,
   "metadata": {},
   "outputs": [
    {
     "name": "stdout",
     "output_type": "stream",
     "text": [
      "Number of iterations =  7847\n"
     ]
    }
   ],
   "source": [
    "def check_nearest_neighbors(state):\n",
    "    coord_list = coordinate_list(state)\n",
    "\n",
    "    for (x,y) in coord_list.keys():\n",
    "        if (x-1,y-1) in coord_list and (x-1,y) in coord_list and (x-1,y+1) in coord_list \\\n",
    "            and (x,y-1) in coord_list and (x,y+1) in coord_list \\\n",
    "            and (x+1,y-1) in coord_list and (x+1,y) in coord_list and (x+1,y+1) in coord_list: \n",
    "            return True\n",
    "        \n",
    "    return False\n",
    "\n",
    "file = open('puzzle_input_14.txt')\n",
    "gridsize = (101,103)\n",
    "dx, dy = gridsize[0]//2, gridsize[1]//2\n",
    "state = []\n",
    "\n",
    "for line in file:\n",
    "    current_state_as_str = re.findall(r'-?\\d+', line)  # Match negative and positive numbers\n",
    "    current_state_as_int = []\n",
    "    for input in current_state_as_str:\n",
    "        current_state_as_int.append(int(input))\n",
    "    state.append(current_state_as_int)\n",
    "\n",
    "iterations = 0\n",
    "while not check_nearest_neighbors(state):\n",
    "    state = iterate_state(state)\n",
    "    iterations+=1\n",
    "print('Number of iterations = ', iterations)\n"
   ]
  }
 ],
 "metadata": {
  "kernelspec": {
   "display_name": "Python 3",
   "language": "python",
   "name": "python3"
  },
  "language_info": {
   "codemirror_mode": {
    "name": "ipython",
    "version": 3
   },
   "file_extension": ".py",
   "mimetype": "text/x-python",
   "name": "python",
   "nbconvert_exporter": "python",
   "pygments_lexer": "ipython3",
   "version": "3.12.5"
  }
 },
 "nbformat": 4,
 "nbformat_minor": 2
}
