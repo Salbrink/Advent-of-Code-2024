{
 "cells": [
  {
   "cell_type": "markdown",
   "metadata": {},
   "source": [
    "## Part 1"
   ]
  },
  {
   "cell_type": "code",
   "execution_count": 34,
   "metadata": {},
   "outputs": [
    {
     "name": "stdout",
     "output_type": "stream",
     "text": [
      "nbrVisitedPositions = 5461\n"
     ]
    }
   ],
   "source": [
    "file = open('puzzle_input_6.txt')\n",
    "matrix = []\n",
    "x, y, startX, startY = -1, -1, -1, -1\n",
    "nbrVisitedPositions = 0\n",
    "\n",
    "r = 0\n",
    "for line in file:\n",
    "    c = 0\n",
    "    submatrix = []\n",
    "    for char in line:\n",
    "        submatrix.append(char)\n",
    "        if char == '^': \n",
    "            x = r\n",
    "            startX = r\n",
    "            y = c\n",
    "            startY = c\n",
    "        c += 1\n",
    "    r += 1\n",
    "    matrix.append(submatrix)\n",
    "\n",
    "# Enumerate so up = 0, right = 1, down = 2, left = 3\n",
    "direction = 0\n",
    "def updateDirection(direction):\n",
    "    return (direction + 1) % 4\n",
    "\n",
    "while (0 < x) and (x < len(matrix) - 1) and (0 < y) and (y < len(matrix[0]) - 1):\n",
    "    match direction:\n",
    "        case 0:\n",
    "            if matrix[x-1][y] == '#':\n",
    "                direction = updateDirection(direction)\n",
    "            else:\n",
    "                matrix[x][y] = 'X'\n",
    "                x -= 1\n",
    "                if matrix[x][y] != 'X': nbrVisitedPositions += 1\n",
    "        case 1:\n",
    "            if matrix[x][y+1] == '#':\n",
    "                direction = updateDirection(direction)\n",
    "            else:\n",
    "                matrix[x][y] = 'X'\n",
    "                y += 1\n",
    "                if matrix[x][y] != 'X': nbrVisitedPositions += 1\n",
    "        case 2:\n",
    "            if matrix[x+1][y] == '#':\n",
    "                direction = updateDirection(direction)\n",
    "            else:\n",
    "                matrix[x][y] = 'X'\n",
    "                x += 1\n",
    "                if matrix[x][y] != 'X': nbrVisitedPositions += 1\n",
    "        case 3:\n",
    "            if matrix[x][y-1] == '#':\n",
    "                direction = updateDirection(direction)\n",
    "            else:\n",
    "                matrix[x][y] = 'X'\n",
    "                y -= 1\n",
    "                if matrix[x][y] != 'X': nbrVisitedPositions += 1\n",
    "\n",
    "matrix[x][y] = 'X'\n",
    "nbrVisitedPositions += 1\n",
    "print(f'{nbrVisitedPositions = }')"
   ]
  },
  {
   "cell_type": "markdown",
   "metadata": {},
   "source": [
    "## Part 2"
   ]
  },
  {
   "cell_type": "code",
   "execution_count": 35,
   "metadata": {},
   "outputs": [
    {
     "name": "stdout",
     "output_type": "stream",
     "text": [
      "nbrLoops = 1836\n"
     ]
    }
   ],
   "source": [
    "maxNbrSteps = len(matrix)*len(matrix[0])\n",
    "nbrLoops = 0\n",
    "\n",
    "def takeStep(matrix, x, y, direction):\n",
    "    match direction:\n",
    "        case 0:\n",
    "            if matrix[x-1][y] == '#' or matrix[x-1][y] == '0': return x, y, updateDirection(direction)\n",
    "            else: return x-1, y, direction\n",
    "        case 1:\n",
    "            if matrix[x][y+1] == '#' or matrix[x][y+1] == '0':return x, y, updateDirection(direction)\n",
    "            else: return x, y+1, direction \n",
    "        case 2:\n",
    "            if matrix[x+1][y] == '#' or matrix[x+1][y] == '0': return x, y, updateDirection(direction)\n",
    "            else: return  x+1, y, direction\n",
    "        case 3:\n",
    "            if matrix[x][y-1] == '#' or matrix[x][y-1] == '0': return x, y, updateDirection(direction)\n",
    "            else: return x, y-1, direction\n",
    "\n",
    "def matrixWithLoop(matrix, startX, startY, maxNbrSteps=maxNbrSteps):\n",
    "    direction = 0\n",
    "    for i in range(maxNbrSteps):\n",
    "        if (0 < startX) and (startX < len(matrix) - 1) and (0 < startY) and (startY < len(matrix[0]) - 1):\n",
    "            startX, startY, direction = takeStep(matrix, startX, startY, direction)\n",
    "        else: return False\n",
    "    return True\n",
    "def copyMatrix(m):\n",
    "    newM = []\n",
    "    for r in range(len(m)):\n",
    "        subM = []\n",
    "        for c in range(len(m[r])):\n",
    "            subM.append(m[r][c])\n",
    "        newM.append(subM)\n",
    "    return newM\n",
    "\n",
    "for row in range(len(matrix)):\n",
    "    for col in range(len(matrix[row])):\n",
    "        if matrix[row][col] == 'X':\n",
    "            testMatrix = copyMatrix(matrix)\n",
    "            testMatrix[row][col] = '0'\n",
    "            if matrixWithLoop(testMatrix, startX=startX, startY=startY, maxNbrSteps=maxNbrSteps):\n",
    "                nbrLoops += 1\n",
    "\n",
    "print(f'{nbrLoops = }')"
   ]
  }
 ],
 "metadata": {
  "kernelspec": {
   "display_name": "Python 3",
   "language": "python",
   "name": "python3"
  },
  "language_info": {
   "codemirror_mode": {
    "name": "ipython",
    "version": 3
   },
   "file_extension": ".py",
   "mimetype": "text/x-python",
   "name": "python",
   "nbconvert_exporter": "python",
   "pygments_lexer": "ipython3",
   "version": "3.12.5"
  }
 },
 "nbformat": 4,
 "nbformat_minor": 2
}
