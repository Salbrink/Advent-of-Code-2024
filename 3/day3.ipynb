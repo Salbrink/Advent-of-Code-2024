{
 "cells": [
  {
   "cell_type": "markdown",
   "metadata": {},
   "source": [
    "## Part 1"
   ]
  },
  {
   "cell_type": "code",
   "execution_count": null,
   "metadata": {},
   "outputs": [],
   "source": [
    "import re\n",
    "file = open('puzzle_input_3.txt')\n",
    "result = 0\n",
    "pattern = r'mul\\(\\d{1,3},\\d{1,3}\\)'\n",
    "\n",
    "\n",
    "for line in file:\n",
    "    for command in re.findall(pattern, line):\n",
    "        nbrs = re.findall(r'\\d{1,3}', command)\n",
    "        result += int(nbrs[0])*int(nbrs[1])\n",
    "\n",
    "print(f'{result = }')"
   ]
  },
  {
   "cell_type": "markdown",
   "metadata": {},
   "source": [
    "## Part 2"
   ]
  },
  {
   "cell_type": "code",
   "execution_count": null,
   "metadata": {},
   "outputs": [],
   "source": [
    "file = open('puzzle_input_3.txt')\n",
    "\n",
    "\n",
    "for string in file:\n",
    "    dos   = re.finditer(r'do\\(\\)', string)\n",
    "    donts = re.finditer(r'don\\'t\\(\\)', string)\n",
    "\n",
    "    dos_list   = [do.start() for do in dos]\n",
    "    donts_list = [dont.start() for dont in donts]\n",
    "\n",
    "    doIndex = 0\n",
    "    dontIndex = 0\n",
    "    a = []\n",
    "    do = False\n",
    "    a.append(donts_list[0])\n",
    "\n",
    "    while(doIndex != len(dos_list) -1 and dontIndex != len(donts_list) - 1):\n",
    "        if do:\n",
    "            if donts_list[dontIndex] < a[-1]:\n",
    "                dontIndex += 1\n",
    "            else:\n",
    "                a.append(donts_list[dontIndex])\n",
    "                do = False\n",
    "        else:\n",
    "            if dos_list[doIndex] < a[-1]:\n",
    "                doIndex += 1\n",
    "            else:\n",
    "                a.append(dos_list[doIndex])\n",
    "                do = True\n",
    "\n",
    "    intervals = [[a[i], a[i+1]] for i in range(int(len(a)-1))]\n",
    "    for i, interval in enumerate(intervals):\n",
    "        if i%2 == 0:\n",
    "            commands = re.findall(pattern, line[interval[0]:interval[1]])\n",
    "            for command in commands:\n",
    "                nbrs = re.findall(r'\\d{1,3}', command)\n",
    "                result -= int(nbrs[0])*int(nbrs[1])\n",
    "print(f'{result = }')   "
   ]
  },
  {
   "cell_type": "code",
   "execution_count": null,
   "metadata": {},
   "outputs": [],
   "source": []
  }
 ],
 "metadata": {
  "kernelspec": {
   "display_name": "Python 3",
   "language": "python",
   "name": "python3"
  },
  "language_info": {
   "codemirror_mode": {
    "name": "ipython",
    "version": 3
   },
   "file_extension": ".py",
   "mimetype": "text/x-python",
   "name": "python",
   "nbconvert_exporter": "python",
   "pygments_lexer": "ipython3",
   "version": "3.12.5"
  }
 },
 "nbformat": 4,
 "nbformat_minor": 2
}
