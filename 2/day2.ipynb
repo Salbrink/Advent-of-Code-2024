{
 "cells": [
  {
   "cell_type": "markdown",
   "metadata": {},
   "source": [
    "## Part 1"
   ]
  },
  {
   "cell_type": "code",
   "execution_count": null,
   "metadata": {},
   "outputs": [],
   "source": [
    "import numpy as np\n",
    "\n",
    "file = open('puzzle_input_2.txt')\n",
    "safe_reports = 0\n",
    "\n",
    "def check_level(line, increasing):\n",
    "    if increasing:\n",
    "        for i in range(1, len(line)):\n",
    "            if line[i] == line[i - 1]: return 0\n",
    "            if (line[i] < line[i - 1]) or (3 < line[i] - line[i -1]):\n",
    "                return 0\n",
    "        return 1\n",
    "            \n",
    "    if not increasing:\n",
    "        for i in range(1, len(line)):\n",
    "            if line[i] == line[i - 1]: return 0\n",
    "            if (line[i] > line[i - 1]) or (3 < line[i - 1] - line[i]):\n",
    "                return 0\n",
    "            \n",
    "        return 1\n",
    "    return 0\n",
    "\n",
    "for line in file:\n",
    "    line = np.array(line.split()).astype(int)\n",
    "    safe_reports += check_level(line, (line[0] < line[1]))\n",
    "   \n",
    "\n",
    "print(f'{safe_reports = }')"
   ]
  },
  {
   "cell_type": "markdown",
   "metadata": {},
   "source": [
    "## Part 2"
   ]
  },
  {
   "cell_type": "code",
   "execution_count": 17,
   "metadata": {},
   "outputs": [
    {
     "name": "stdout",
     "output_type": "stream",
     "text": [
      "safe_reports = 626\n"
     ]
    }
   ],
   "source": [
    "safe_reports = 0\n",
    "file = open('puzzle_input_2.txt')\n",
    "\n",
    "for line in file:\n",
    "    line = np.array(line.split()).astype(int)\n",
    "    if check_level(line, (line[0] < line[1])) == 1: safe_reports += 1\n",
    "    else: \n",
    "        nbr_safe_levels = 0\n",
    "        for i in range(len(line)):\n",
    "            new_line = np.delete(line, i)\n",
    "            nbr_safe_levels += check_level(new_line, (new_line[0] < new_line[1]))\n",
    "        if nbr_safe_levels >= 1:\n",
    "            safe_reports += 1\n",
    "    \n",
    "print(f'{safe_reports = }')"
   ]
  }
 ],
 "metadata": {
  "kernelspec": {
   "display_name": "Python 3",
   "language": "python",
   "name": "python3"
  },
  "language_info": {
   "codemirror_mode": {
    "name": "ipython",
    "version": 3
   },
   "file_extension": ".py",
   "mimetype": "text/x-python",
   "name": "python",
   "nbconvert_exporter": "python",
   "pygments_lexer": "ipython3",
   "version": "3.12.5"
  }
 },
 "nbformat": 4,
 "nbformat_minor": 2
}
