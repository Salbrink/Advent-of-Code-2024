{
 "cells": [
  {
   "cell_type": "markdown",
   "metadata": {},
   "source": [
    "## Part 1"
   ]
  },
  {
   "cell_type": "code",
   "execution_count": 14,
   "metadata": {},
   "outputs": [
    {
     "name": "stdout",
     "output_type": "stream",
     "text": [
      "antiNodeCount = 299\n"
     ]
    }
   ],
   "source": [
    "file = open('puzzle_input_8.txt')\n",
    "matrix = []\n",
    "antennasAndPositions = {}\n",
    "occupiedPositions = []\n",
    "antiNodeCount = 0\n",
    "\n",
    "row = 0\n",
    "for line in file:\n",
    "    submatrix = []\n",
    "    col = 0\n",
    "    for ch in line: \n",
    "        if ch != '\\n': \n",
    "            submatrix.append(ch)\n",
    "            if ch != '.': \n",
    "                occupiedPositions.append((row, col))\n",
    "                if ch in antennasAndPositions:\n",
    "                    antennasAndPositions[ch].append((row, col))\n",
    "                else:\n",
    "                    antennasAndPositions[ch] = [(row, col)]\n",
    "        col += 1\n",
    "    row += 1\n",
    "    matrix.append(submatrix)\n",
    "\n",
    "def getAntinodePosition(r1, c1, r2, c2):\n",
    "    return (r1 - (r2 - r1), c1 - (c2 - c1))\n",
    "\n",
    "for r, row in enumerate(matrix):\n",
    "    for c, element in enumerate(row):\n",
    "        if element != '.' and element != '#':\n",
    "            for otherAntennaPosition in antennasAndPositions[element]:\n",
    "                if otherAntennaPosition != (r, c):\n",
    "                    antinode = getAntinodePosition(r, c, otherAntennaPosition[0], otherAntennaPosition[1])\n",
    "                    if -1 < antinode[0] and antinode[0] < len(matrix) and -1 < antinode[1] and antinode[1] < len(matrix[0]):\n",
    "                        if matrix[antinode[0]][antinode[1]] == '.':\n",
    "                            matrix[antinode[0]][antinode[1]] = '#'\n",
    "                            antiNodeCount += 1\n",
    "                        elif matrix[antinode[0]][antinode[1]] != '.' and matrix[antinode[0]][antinode[1]] != '#':\n",
    "                            antiNodeCount += 1\n",
    "\n",
    "print(f'{antiNodeCount = }')\n"
   ]
  },
  {
   "cell_type": "markdown",
   "metadata": {},
   "source": [
    "## Part 2"
   ]
  },
  {
   "cell_type": "code",
   "execution_count": 15,
   "metadata": {},
   "outputs": [
    {
     "name": "stdout",
     "output_type": "stream",
     "text": [
      "antiNodeCount = 1032\n"
     ]
    }
   ],
   "source": [
    "file = open('puzzle_input_8.txt')\n",
    "matrix = []\n",
    "antennasAndPositions = {}\n",
    "occupiedPositions = []\n",
    "antiNodeCount = 0\n",
    "\n",
    "row = 0\n",
    "for line in file:\n",
    "    submatrix = []\n",
    "    col = 0\n",
    "    for ch in line: \n",
    "        if ch != '\\n': \n",
    "            submatrix.append(ch)\n",
    "            if ch != '.': \n",
    "                occupiedPositions.append((row, col))\n",
    "                if ch in antennasAndPositions:\n",
    "                    antennasAndPositions[ch].append((row, col))\n",
    "                else:\n",
    "                    antennasAndPositions[ch] = [(row, col)]\n",
    "        col += 1\n",
    "    row += 1\n",
    "    matrix.append(submatrix)\n",
    "\n",
    "def getDeltaCoordinates(r1, c1, r2, c2): return (r2-r1, c2-c1)\n",
    "\n",
    "for r, row in enumerate(matrix):\n",
    "    for c, element in enumerate(row):\n",
    "        if element != '.' and element != '#':\n",
    "            for otherAntennaPosition in antennasAndPositions[element]:\n",
    "                if otherAntennaPosition != (r, c):\n",
    "                    deltaR, deltaC = getDeltaCoordinates(\n",
    "                        r, c, otherAntennaPosition[0], otherAntennaPosition[1]\n",
    "                        )\n",
    "                    currR, currC = r, c\n",
    "\n",
    "                    while -1 < currR - deltaR and currR - deltaR < len(matrix) \\\n",
    "                        and -1 < currC - deltaC and currC - deltaC < len(matrix[0]):\n",
    "                        currR -= deltaR\n",
    "                        currC -= deltaC\n",
    "                        if matrix[currR][currC] == '.':\n",
    "                            matrix[currR][currC] = '#'\n",
    "                            antiNodeCount += 1\n",
    "                        elif matrix[currR][currC] != '.' and matrix[currR][currC] != '#':\n",
    "                            if (currR, currC) in occupiedPositions:\n",
    "                                occupiedPositions.remove((currR, currC))\n",
    "                                antiNodeCount += 1\n",
    "\n",
    "antiNodeCount += len(occupiedPositions)\n",
    "print(f'{antiNodeCount = }')"
   ]
  }
 ],
 "metadata": {
  "kernelspec": {
   "display_name": "Python 3",
   "language": "python",
   "name": "python3"
  },
  "language_info": {
   "codemirror_mode": {
    "name": "ipython",
    "version": 3
   },
   "file_extension": ".py",
   "mimetype": "text/x-python",
   "name": "python",
   "nbconvert_exporter": "python",
   "pygments_lexer": "ipython3",
   "version": "3.12.5"
  }
 },
 "nbformat": 4,
 "nbformat_minor": 2
}
