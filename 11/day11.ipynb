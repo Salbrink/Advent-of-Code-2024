{
 "cells": [
  {
   "cell_type": "markdown",
   "metadata": {},
   "source": [
    "## Part 1"
   ]
  },
  {
   "cell_type": "code",
   "execution_count": 22,
   "metadata": {},
   "outputs": [
    {
     "name": "stdout",
     "output_type": "stream",
     "text": [
      "Number of stones after 25 blinks:  197157\n"
     ]
    }
   ],
   "source": [
    "# A stone here is only repsresented by an integer.\n",
    "# The position of the stone corresponds to the index\n",
    "# in a list stonerow.\n",
    "\n",
    "stonerow = list(map(int, open('puzzle_input_11.txt').readline().strip().split()))\n",
    "\n",
    "def splitStone(stone):\n",
    "    stone = str(stone)\n",
    "    half = len(stone) // 2\n",
    "    return (int(stone[:half]), int(stone[half:]))\n",
    "    \n",
    "def blink(stonerow):\n",
    "    newStonerow = []\n",
    "    for stone in stonerow:\n",
    "        if stone == 0:\n",
    "            newStonerow.append(1)\n",
    "        elif(len(str(stone)) % 2 == 0):\n",
    "            (newstone1, newstone2) = splitStone(stone)\n",
    "            newStonerow.append(newstone1)\n",
    "            newStonerow.append(newstone2)\n",
    "        else: \n",
    "            newStonerow.append(stone * 2024)\n",
    "    return newStonerow\n",
    "\n",
    "for i in range(25): \n",
    "    stonerow = blink(stonerow)\n",
    "\n",
    "print('Number of stones after 25 blinks: ', len(stonerow))"
   ]
  },
  {
   "cell_type": "markdown",
   "metadata": {},
   "source": [
    "## Part 2"
   ]
  },
  {
   "cell_type": "code",
   "execution_count": 23,
   "metadata": {},
   "outputs": [
    {
     "name": "stdout",
     "output_type": "stream",
     "text": [
      "Number of stones after 75 blinks:  234430066982597\n"
     ]
    }
   ],
   "source": [
    "cached_calculations = {}\n",
    "stonerow = list(map(int, open('puzzle_input_11.txt').readline().strip().split()))\n",
    "\n",
    "def blinkNbrTimes(stone, nbrTimes):\n",
    "    if nbrTimes == 0:\n",
    "        return 1\n",
    "    elif (stone, nbrTimes) in cached_calculations:\n",
    "        return cached_calculations[(stone, nbrTimes)]\n",
    "    elif stone == 0:\n",
    "        nbrNewStones = blinkNbrTimes(1, nbrTimes - 1)\n",
    "    elif len(str(stone)) % 2 == 0:\n",
    "        (stone1, stone2) = splitStone(stone)\n",
    "        nbrNewStones = blinkNbrTimes(stone1, nbrTimes - 1)\n",
    "        nbrNewStones += blinkNbrTimes(stone2, nbrTimes - 1)\n",
    "    else:\n",
    "        nbrNewStones = blinkNbrTimes(stone*2024, nbrTimes - 1)\n",
    "    cached_calculations[((stone, nbrTimes))] = nbrNewStones\n",
    "    return nbrNewStones\n",
    "\n",
    "print(\n",
    "    'Number of stones after 75 blinks: ',\n",
    "    sum(blinkNbrTimes(stone, 75) for stone in stonerow)\n",
    ")"
   ]
  }
 ],
 "metadata": {
  "kernelspec": {
   "display_name": "Python 3",
   "language": "python",
   "name": "python3"
  },
  "language_info": {
   "codemirror_mode": {
    "name": "ipython",
    "version": 3
   },
   "file_extension": ".py",
   "mimetype": "text/x-python",
   "name": "python",
   "nbconvert_exporter": "python",
   "pygments_lexer": "ipython3",
   "version": "3.12.5"
  }
 },
 "nbformat": 4,
 "nbformat_minor": 2
}
