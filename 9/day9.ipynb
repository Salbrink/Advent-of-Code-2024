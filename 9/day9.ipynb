{
 "cells": [
  {
   "cell_type": "markdown",
   "metadata": {},
   "source": [
    "## Part 1"
   ]
  },
  {
   "cell_type": "code",
   "execution_count": null,
   "metadata": {},
   "outputs": [],
   "source": [
    "file = open('puzzle_input_9.txt')\n",
    "string = []\n",
    "for line in file:\n",
    "    for ch in line:\n",
    "        if ch != '\\n':\n",
    "            string.append(ch)\n",
    "\n",
    "newString = []\n",
    "for index, number in enumerate(string):\n",
    "    index = int(index)\n",
    "    number = int(number)\n",
    "    if index % 2 == 0:\n",
    "        for i in range(number):\n",
    "            newString.append(int(index / 2))\n",
    "    else:\n",
    "        for i in range(number):\n",
    "            newString.append('.')\n",
    "\n",
    "while '.' in newString:\n",
    "    lastElement = newString.pop()\n",
    "\n",
    "    while lastElement == '.': \n",
    "        lastElement = newString.pop()\n",
    "\n",
    "    for index, element in enumerate(newString):\n",
    "        if element == '.':\n",
    "            newString[index] = lastElement\n",
    "            break\n",
    "        elif index == len(newString) - 1 and lastElement != '.':\n",
    "            newString.append(lastElement)\n",
    "            break\n",
    "\n",
    "def checksum(filesystem): \n",
    "    result = 0\n",
    "    for i, nbr in enumerate(filesystem):\n",
    "        result += i*nbr\n",
    "    return result\n",
    "\n",
    "print(checksum(newString))"
   ]
  },
  {
   "cell_type": "markdown",
   "metadata": {},
   "source": [
    "## Part 2"
   ]
  },
  {
   "cell_type": "code",
   "execution_count": 1,
   "metadata": {},
   "outputs": [
    {
     "name": "stdout",
     "output_type": "stream",
     "text": [
      "result =  2858\n"
     ]
    }
   ],
   "source": [
    "teststring = '2333133121414131402'\n",
    "newString = []\n",
    "nbrSeq = 0\n",
    "freeSpaces = {}\n",
    "sequences = {}\n",
    "for index, number in enumerate(teststring):\n",
    "    index = int(index)\n",
    "    number = int(number)\n",
    "    if index % 2 == 0:\n",
    "        for i in range(number):\n",
    "            newString.append(int(index / 2))\n",
    "        nbrSeq += 1\n",
    "    else:\n",
    "        for i in range(number):\n",
    "            newString.append('.')\n",
    "\n",
    "i = 0\n",
    "while i < len(newString):\n",
    "    count = 0\n",
    "    startIndex = -1\n",
    "    if newString[i] == '.':\n",
    "        startIndex = i\n",
    "        count += 1\n",
    "        while i + count < len(newString) and newString[i + count] == '.':\n",
    "            count += 1\n",
    "        freeSpaces[startIndex] = (count, 0)\n",
    "        i += count\n",
    "    else:\n",
    "        startIndex = i\n",
    "        currentNbr = newString[i]\n",
    "        while i + count < len(newString) and newString[i + count] == currentNbr:\n",
    "            count += 1\n",
    "        sequences[startIndex] = (count*len(str(currentNbr)), currentNbr)\n",
    "        i += count\n",
    "\n",
    "for index, (seqLength, nbr) in reversed(list(sequences.items())):\n",
    "    nbrLength = len(str(nbr))\n",
    "    foundIndex = -1\n",
    "    fitsPerfectly = False\n",
    "    for idx, (spaceLength, offset) in freeSpaces.items():\n",
    "        foundIndex = idx\n",
    "        if seqLength == spaceLength:\n",
    "            fitsPerfectly = True\n",
    "            for i in range(seqLength):\n",
    "                for j in range(nbrLength):\n",
    "                    newString[idx + offset + i + j] = int(str(nbr)[j])\n",
    "                    newString[index+i + j] = '.'\n",
    "            break\n",
    "        elif seqLength < spaceLength: \n",
    "            fitsPerfectly = False\n",
    "            for i in range(seqLength):\n",
    "                for j in range(nbrLength):\n",
    "                    newString[idx + offset + i + j] = int(str(nbr)[j])\n",
    "                    newString[index+i + j] = '.'\n",
    "            break\n",
    "\n",
    "    if foundIndex != -1: \n",
    "        if fitsPerfectly:\n",
    "            freeSpaces.pop(foundIndex)\n",
    "        else: \n",
    "            (i, off) = freeSpaces[foundIndex]\n",
    "            freeSpaces[foundIndex] = (i-seqLength, off+seqLength)\n",
    "\n",
    "def newCheckSum(filesystem):\n",
    "    result = 0\n",
    "    for i, nbr in enumerate(filesystem):\n",
    "        if nbr != '.':\n",
    "            result += i*nbr\n",
    "    return result\n",
    "\n",
    "print('result = ', newCheckSum(newString))"
   ]
  }
 ],
 "metadata": {
  "kernelspec": {
   "display_name": "Python 3",
   "language": "python",
   "name": "python3"
  },
  "language_info": {
   "codemirror_mode": {
    "name": "ipython",
    "version": 3
   },
   "file_extension": ".py",
   "mimetype": "text/x-python",
   "name": "python",
   "nbconvert_exporter": "python",
   "pygments_lexer": "ipython3",
   "version": "3.12.5"
  }
 },
 "nbformat": 4,
 "nbformat_minor": 2
}
