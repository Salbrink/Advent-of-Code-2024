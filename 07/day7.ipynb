{
 "cells": [
  {
   "cell_type": "markdown",
   "metadata": {},
   "source": [
    "## Part 1"
   ]
  },
  {
   "cell_type": "code",
   "execution_count": 3,
   "metadata": {},
   "outputs": [
    {
     "name": "stdout",
     "output_type": "stream",
     "text": [
      "result = 1545311493300\n"
     ]
    }
   ],
   "source": [
    "import re\n",
    "import numpy as np\n",
    "\n",
    "def copy(list):\n",
    "    copy = []\n",
    "    for l in list: copy.append(l)\n",
    "    return copy\n",
    "\n",
    "def targetAttainable(N, X, current):\n",
    "    if not N: return current == X\n",
    "    next = N.pop(0)\n",
    "    if current*next <= X:\n",
    "        if targetAttainable(copy(N), X, current*next): return True\n",
    "    if current+next <= X:\n",
    "        if targetAttainable(copy(N), X, current+next): return True\n",
    "    return False\n",
    "\n",
    "file = open('puzzle_input_7.txt')\n",
    "result = 0\n",
    "for line in file:\n",
    "    nbrList = re.findall(r'\\d+', line)\n",
    "    target = int(nbrList.pop(0))\n",
    "    nbrList = [int(nbr) for nbr in nbrList]\n",
    "    startValue = nbrList.pop(0)\n",
    "    if targetAttainable(nbrList, target, startValue): result += target\n",
    "\n",
    "print(f'{result = }')"
   ]
  },
  {
   "cell_type": "markdown",
   "metadata": {},
   "source": [
    "#### Brute Force Approach"
   ]
  },
  {
   "cell_type": "code",
   "execution_count": null,
   "metadata": {},
   "outputs": [],
   "source": [
    "import re\n",
    "import numpy as np\n",
    "\n",
    "file = open('puzzle_input_7.txt')\n",
    "result = 0\n",
    "\n",
    "def getAllPermutations(inputList):\n",
    "    '''\n",
    "    Returns all N over k possible permutations a list. \n",
    "    '''\n",
    "    if len(inputList) == 0: return [0]\n",
    "    if len(inputList) == 1: return [inputList]\n",
    "\n",
    "    permutations = []\n",
    "    for i in range(len(inputList)):\n",
    "        m = inputList[i]\n",
    "        remainingList = inputList[:i] + inputList[i+1:]\n",
    "        for p in getAllPermutations(remainingList):\n",
    "            newList = [m] + p\n",
    "            if newList not in permutations: permutations.append([m] + p)\n",
    "    return permutations\n",
    "\n",
    "def listOfNZerosAndKOnes(N, k):\n",
    "    result = [0]*N\n",
    "    for i in range(k):\n",
    "        result[i] = 1\n",
    "    return result\n",
    "\n",
    "def getSum(nbrList, operatorInstructions):\n",
    "    '''\n",
    "    Each element in operatorInstructions is either\n",
    "    1 -> multiplication or 0 -> addition\n",
    "    '''\n",
    "    sum = nbrList[0]\n",
    "    for i in range(len(operatorInstructions)):\n",
    "        match operatorInstructions[i]:\n",
    "            case 0: sum += nbrList[i+1]\n",
    "            case 1: sum *= nbrList[i+1]\n",
    "    return sum\n",
    "\n",
    "def getMLargestValues(nbrList, m):\n",
    "    largest_values = np.partition(nbrList, -m)[-m:] \n",
    "    return np.sort(largest_values)[::-1]  \n",
    "\n",
    "def getMSmallestValues(nbrList, m):\n",
    "    smallest_values = np.partition(nbrList, m)[-m:] \n",
    "    return np.sort(smallest_values)[::-1]  \n",
    "\n",
    "def possibleToGetValue(nbrList, value):\n",
    "    N = len(nbrList) - 1\n",
    "    for m in range(N+1):\n",
    "        for p in getAllPermutations(listOfNZerosAndKOnes(N, m)):\n",
    "            sum = getSum(nbrList, p)\n",
    "            if sum == value: return True\n",
    "            elif 0 < sum - target: return False\n",
    "    return False\n",
    "\n",
    "i = 1\n",
    "for line in file:\n",
    "    print('Line ', i, '/ 850')\n",
    "    nbrList = re.findall(r'\\d+', line)\n",
    "    target = int(nbrList.pop(0))\n",
    "    nbrList = np.array(nbrList).astype(int)\n",
    "    if np.sum(nbrList) <= target and target <= np.prod(nbrList):\n",
    "        if possibleToGetValue(nbrList, target): result += target\n",
    "    i+= 1\n",
    "\n",
    "print(f'{result = }')"
   ]
  },
  {
   "cell_type": "markdown",
   "metadata": {},
   "source": [
    "## Part 2"
   ]
  },
  {
   "cell_type": "code",
   "execution_count": 7,
   "metadata": {},
   "outputs": [
    {
     "name": "stdout",
     "output_type": "stream",
     "text": [
      "result = 169122112716571\n"
     ]
    }
   ],
   "source": [
    "def concatenate(nbr1, nbr2):\n",
    "    return int(str(nbr1)+ str(nbr2))\n",
    "\n",
    "def targetAttainableWithConcatenation(N, X, current):\n",
    "    if not N: return current == X\n",
    "    next = N.pop(0)\n",
    "    if current*next <= X:\n",
    "        if targetAttainableWithConcatenation(copy(N), X, current*next): return True\n",
    "    if current+next <= X:\n",
    "        if targetAttainableWithConcatenation(copy(N), X, current+next): return True\n",
    "    if concatenate(current,next) <= X:\n",
    "        if targetAttainableWithConcatenation(copy(N), X, concatenate(current,next)): return True\n",
    "    return False\n",
    "\n",
    "file = open('puzzle_input_7.txt')\n",
    "result = 0\n",
    "for line in file:\n",
    "    nbrList = re.findall(r'\\d+', line)\n",
    "    target = int(nbrList.pop(0))\n",
    "    nbrList = [int(nbr) for nbr in nbrList]\n",
    "    startValue = nbrList.pop(0)\n",
    "    if targetAttainableWithConcatenation(nbrList, target, startValue): result += target\n",
    "\n",
    "print(f'{result = }')"
   ]
  }
 ],
 "metadata": {
  "kernelspec": {
   "display_name": "Python 3",
   "language": "python",
   "name": "python3"
  },
  "language_info": {
   "codemirror_mode": {
    "name": "ipython",
    "version": 3
   },
   "file_extension": ".py",
   "mimetype": "text/x-python",
   "name": "python",
   "nbconvert_exporter": "python",
   "pygments_lexer": "ipython3",
   "version": "3.12.5"
  }
 },
 "nbformat": 4,
 "nbformat_minor": 2
}
