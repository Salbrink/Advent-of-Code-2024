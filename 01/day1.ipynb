{
 "cells": [
  {
   "cell_type": "markdown",
   "metadata": {},
   "source": [
    "## Part 1"
   ]
  },
  {
   "cell_type": "code",
   "execution_count": 1,
   "metadata": {},
   "outputs": [
    {
     "name": "stdout",
     "output_type": "stream",
     "text": [
      "result = 1970720\n"
     ]
    }
   ],
   "source": [
    "import numpy as np\n",
    "\n",
    "file = open('puzzle_input_1')\n",
    "first_list, second_list = [], []\n",
    "for line in file:\n",
    "    line = line.split()\n",
    "    first_list.append(int(line[0]))\n",
    "    second_list.append(int(line[1]))\n",
    "\n",
    "first_list.sort()\n",
    "second_list.sort()\n",
    "\n",
    "first_list = first_list\n",
    "second_list = second_list\n",
    "\n",
    "result = sum(np.abs(np.array(second_list) - np.array(first_list)))\n",
    "print(f'{result = }')"
   ]
  },
  {
   "cell_type": "markdown",
   "metadata": {},
   "source": [
    "## Part 2"
   ]
  },
  {
   "cell_type": "code",
   "execution_count": 2,
   "metadata": {},
   "outputs": [
    {
     "name": "stdout",
     "output_type": "stream",
     "text": [
      "result = 17191599\n"
     ]
    }
   ],
   "source": [
    "result = 0 \n",
    "for element in first_list:\n",
    "    result += element * second_list.count(element)\n",
    "\n",
    "print(f'{result = }')"
   ]
  }
 ],
 "metadata": {
  "kernelspec": {
   "display_name": "Python 3",
   "language": "python",
   "name": "python3"
  },
  "language_info": {
   "codemirror_mode": {
    "name": "ipython",
    "version": 3
   },
   "file_extension": ".py",
   "mimetype": "text/x-python",
   "name": "python",
   "nbconvert_exporter": "python",
   "pygments_lexer": "ipython3",
   "version": "3.12.5"
  }
 },
 "nbformat": 4,
 "nbformat_minor": 2
}
