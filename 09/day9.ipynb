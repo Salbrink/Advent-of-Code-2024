{
 "cells": [
  {
   "cell_type": "markdown",
   "metadata": {},
   "source": [
    "## Part 1"
   ]
  },
  {
   "cell_type": "code",
   "execution_count": 1,
   "metadata": {},
   "outputs": [
    {
     "name": "stdout",
     "output_type": "stream",
     "text": [
      "6341711060162\n"
     ]
    }
   ],
   "source": [
    "file = open('puzzle_input_9.txt')\n",
    "string = []\n",
    "for line in file:\n",
    "    for ch in line:\n",
    "        if ch != '\\n':\n",
    "            string.append(ch)\n",
    "\n",
    "newString = []\n",
    "for currentIndex, number in enumerate(string):\n",
    "    currentIndex = int(currentIndex)\n",
    "    number = int(number)\n",
    "    if currentIndex % 2 == 0:\n",
    "        for i in range(number):\n",
    "            newString.append(int(currentIndex / 2))\n",
    "    else:\n",
    "        for i in range(number):\n",
    "            newString.append('.')\n",
    "\n",
    "while '.' in newString:\n",
    "    lastElement = newString.pop()\n",
    "\n",
    "    while lastElement == '.': \n",
    "        lastElement = newString.pop()\n",
    "\n",
    "    for currentIndex, element in enumerate(newString):\n",
    "        if element == '.':\n",
    "            newString[currentIndex] = lastElement\n",
    "            break\n",
    "        elif currentIndex == len(newString) - 1 and lastElement != '.':\n",
    "            newString.append(lastElement)\n",
    "            break\n",
    "\n",
    "def checksum(filesystem): \n",
    "    result = 0\n",
    "    for i, nbr in enumerate(filesystem):\n",
    "        result += i*nbr\n",
    "    return result\n",
    "\n",
    "print(checksum(newString))"
   ]
  },
  {
   "cell_type": "markdown",
   "metadata": {},
   "source": [
    "## Part 2"
   ]
  },
  {
   "cell_type": "code",
   "execution_count": 64,
   "metadata": {},
   "outputs": [
    {
     "name": "stdout",
     "output_type": "stream",
     "text": [
      "result = 6377400869326\n"
     ]
    }
   ],
   "source": [
    "filesystem = {}\n",
    "freeSpaces = []\n",
    "\n",
    "count = 0\n",
    "for i, nbr in enumerate(string):\n",
    "    nbr = int(nbr)\n",
    "    if i % 2 == 0: filesystem[int(i/2)] = (count, count + nbr, nbr)\n",
    "    elif nbr != 0: freeSpaces.append((count, count + nbr, nbr))\n",
    "    count += nbr\n",
    "\n",
    "currentIndex = list(filesystem)[-1]\n",
    "\n",
    "while currentIndex >= 0:\n",
    "    start, end, length = filesystem[currentIndex]\n",
    "\n",
    "    currentSpaceIndex = 0\n",
    "    while currentSpaceIndex < len(freeSpaces):\n",
    "        spaceStart, spaceEnd, spaceLenght = freeSpaces[currentSpaceIndex]\n",
    "        if spaceStart >= start: break\n",
    "\n",
    "        if length <= spaceLenght:\n",
    "            freeSpaces.pop(currentSpaceIndex)\n",
    "\n",
    "            newStart, newEnd = spaceStart, spaceStart + length\n",
    "            newSpaceStart, newSpaceEnd = newEnd, spaceEnd\n",
    "            \n",
    "            filesystem[currentIndex] = (newStart, newEnd, length)\n",
    "            if newSpaceStart != newSpaceEnd:\n",
    "                freeSpaces.insert(currentSpaceIndex, (newSpaceStart, newSpaceEnd, newSpaceEnd-newSpaceStart))\n",
    "            break\n",
    "        else:\n",
    "            currentSpaceIndex += 1\n",
    "\n",
    "    currentIndex -= 1\n",
    "\n",
    "result = 0\n",
    "\n",
    "for k, (start, end, l) in filesystem.items():\n",
    "    result += sum(k*i for i in range(start, end))\n",
    "    \n",
    "print(f'{result = }')"
   ]
  }
 ],
 "metadata": {
  "kernelspec": {
   "display_name": "Python 3",
   "language": "python",
   "name": "python3"
  },
  "language_info": {
   "codemirror_mode": {
    "name": "ipython",
    "version": 3
   },
   "file_extension": ".py",
   "mimetype": "text/x-python",
   "name": "python",
   "nbconvert_exporter": "python",
   "pygments_lexer": "ipython3",
   "version": "3.12.5"
  }
 },
 "nbformat": 4,
 "nbformat_minor": 2
}
